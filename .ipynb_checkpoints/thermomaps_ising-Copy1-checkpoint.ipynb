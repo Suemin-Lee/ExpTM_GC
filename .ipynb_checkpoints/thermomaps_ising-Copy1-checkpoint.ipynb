{
 "cells": [
  {
   "cell_type": "markdown",
   "metadata": {
    "colab_type": "text",
    "id": "view-in-github"
   },
   "source": [
    "<a href=\"https://colab.research.google.com/github/lherron2/thermomaps-ising/blob/main/thermomaps_ising.ipynb\" target=\"_parent\"><img src=\"https://colab.research.google.com/assets/colab-badge.svg\" alt=\"Open In Colab\"/></a>"
   ]
  },
  {
   "cell_type": "code",
   "execution_count": 1,
   "metadata": {
    "colab": {
     "base_uri": "https://localhost:8080/"
    },
    "id": "jkAntsLj5Iti",
    "outputId": "3d77e44e-2d53-4e65-e9d3-b3eece2b9b38"
   },
   "outputs": [
    {
     "name": "stdout",
     "output_type": "stream",
     "text": [
      "/scratch/zt1/project/tiwary-prj/user/sueminl/2023-11-06/gb1/DDPM/thermomaps_ising/parameter_test/thermomaps_p02/thermomaps-root\n"
     ]
    }
   ],
   "source": [
    "# # !git clone https://github.com/lherron2/thermomaps-ising.git\n",
    "%cd thermomaps-root\n",
    "# ! pip -q install .\n",
    "# ! pip install -qr requirements.txt\n",
    "# %cd -"
   ]
  },
  {
   "cell_type": "code",
   "execution_count": 2,
   "metadata": {},
   "outputs": [
    {
     "name": "stdout",
     "output_type": "stream",
     "text": [
      "/scratch/zt1/project/tiwary-prj/user/sueminl/2023-11-06/gb1/DDPM/thermomaps_ising/parameter_test/thermomaps_p02/thermomaps-root\r\n"
     ]
    }
   ],
   "source": [
    "!pwd"
   ]
  },
  {
   "cell_type": "code",
   "execution_count": null,
   "metadata": {
    "id": "s2Pb3O2u-yD7"
   },
   "outputs": [],
   "source": [
    "import numpy as np\n",
    "import torch\n",
    "import matplotlib.pyplot as plt\n",
    "from tqdm import tqdm\n",
    "\n",
    "from ising.observables import Energy, Magnetization\n",
    "from ising.samplers import SwendsenWangSampler, SingleSpinFlipSampler\n",
    "from ising.base import IsingModel\n",
    "\n",
    "from data.trajectory import EnsembleTrajectory, MultiEnsembleTrajectory\n",
    "from data.dataset import MultiEnsembleDataset\n",
    "from data.generic import Summary\n",
    "\n",
    "from tm.core.prior import GlobalEquilibriumHarmonicPrior, UnitNormalPrior\n",
    "from tm.core.backbone import ConvBackbone\n",
    "from tm.core.diffusion_model import DiffusionTrainer, SteeredDiffusionSampler\n",
    "from tm.core.diffusion_process import VPDiffusion\n",
    "from tm.architectures.unet_2d_mid_attn import Unet2D\n"
   ]
  },
  {
   "cell_type": "code",
   "execution_count": null,
   "metadata": {},
   "outputs": [],
   "source": [
    "pressure = np.array([1.0,1000.0,5000.0,10000.0])\n",
    "p_data_coordinate = np.load('data/concatenate_all_data.npy')\n",
    "\n",
    "p_data_coordinate = p_data_coordinate.transpose(3, 0, 1, 2)\n",
    "\n",
    "# Verify the new shape\n",
    "print(p_data_coordinate.shape)\n",
    "\n",
    "pressure_list = np.ones(4040)\n",
    "\n",
    "for i in range(4):\n",
    "    pressure_list[1010*(i):1010*(i+1)] = pressure[i]\n",
    "\n",
    "trajectoryP={'coordinate':[],'state_variables':[]}\n",
    "\n",
    "trajectoryP['coordinate'] = p_data_coordinate\n",
    "trajectoryP['state_variables'] = pressure_list\n",
    "\n",
    "\n",
    "\n",
    "# trajectoryP=[trajectory_i,trajectory_i,trajectory_i,trajectory_i]\n",
    "\n",
    "# for i,trjP in enumerate(trajectoryP):\n",
    "#     trjP['coordinate'] = p_data_coordinate[:,:,:,1010*(i):1010*(i+1)]\n",
    "#     trjP['state_variables'] = pressure[i]\n",
    "    "
   ]
  },
  {
   "cell_type": "code",
   "execution_count": null,
   "metadata": {},
   "outputs": [],
   "source": [
    "from tm.core.loader import Loader\n",
    "train_loader = Loader(data=trajectoryP['coordinate'], temperatures=trajectoryP['state_variables'][:,None], control_dims=(3,4))#, **TMLoader_kwargs)\n"
   ]
  },
  {
   "cell_type": "code",
   "execution_count": null,
   "metadata": {},
   "outputs": [],
   "source": [
    "# train_loader.__getitem__(0)[1][3:4].shape"
   ]
  },
  {
   "cell_type": "code",
   "execution_count": null,
   "metadata": {},
   "outputs": [],
   "source": [
    "# import importlib\n",
    "# import tm.core.prior\n",
    "# importlib.reload(tm.core.prior)\n",
    "# from tm.core.prior import GlobalEquilibriumHarmonicPrior, UnitNormalPrior\n",
    "\n",
    "\n",
    "# import tm.core.diffusion_model\n",
    "# importlib.reload(tm.core.diffusion_model)\n",
    "# from tm.core.diffusion_model import DiffusionTrainer, SteeredDiffusionSampler\n"
   ]
  },
  {
   "cell_type": "code",
   "execution_count": null,
   "metadata": {
    "id": "kwVMp771sxkN"
   },
   "outputs": [],
   "source": [
    "prior = GlobalEquilibriumHarmonicPrior(shape=train_loader.data.shape, channels_info={\"coordinate\": [0,1,2], \"fluctuation\": [3]})\n",
    "\n"
   ]
  },
  {
   "cell_type": "markdown",
   "metadata": {
    "id": "ntRN5_Kmsxvq"
   },
   "source": [
    "The `model` is the black-box that is used to parameterize the score. Here we opt for a 2D U-net with attention at the upsampling/downsampling bottleneck."
   ]
  },
  {
   "cell_type": "code",
   "execution_count": null,
   "metadata": {
    "id": "oA-u8PPfyENF"
   },
   "outputs": [],
   "source": [
    "model = Unet2D(dim=16, dim_mults=(1, 2, 4), resnet_block_groups=8, channels=4)"
   ]
  },
  {
   "cell_type": "markdown",
   "metadata": {
    "id": "rS17t3qjyWY0"
   },
   "source": [
    "The `backbone` is a wrapper around the model which contains the optimizer, scheduler, and other utilities and implements saving and loading the `model`."
   ]
  },
  {
   "cell_type": "code",
   "execution_count": null,
   "metadata": {
    "id": "jZR-jU6zzEvO"
   },
   "outputs": [],
   "source": [
    "backbone = ConvBackbone(model=model,\n",
    "                        data_shape=train_loader.data_dim,\n",
    "                        target_shape=16,\n",
    "                        num_dims=4,\n",
    "                        lr=1e-3,\n",
    "                        eval_mode=\"train\",\n",
    "                        self_condition=True)"
   ]
  },
  {
   "cell_type": "raw",
   "metadata": {
    "id": "FwOzt1tSzLki"
   },
   "source": [
    "The `diffusion` instantiates the noise schedule, and implements the forward and reverse transition kernels of the diffusion process. Functionally, the `diffusion` implements the Euler-Maryuma SDE/Euler ODE solver for the variance-preserving diffusion process."
   ]
  },
  {
   "cell_type": "code",
   "execution_count": null,
   "metadata": {
    "id": "NstDXiFqEgf3"
   },
   "outputs": [],
   "source": [
    "diffusion = VPDiffusion(num_diffusion_timesteps=100)"
   ]
  },
  {
   "cell_type": "markdown",
   "metadata": {
    "id": "0iK1g87i0UOC"
   },
   "source": [
    "The `trainer` implements the training algorithm, consisting of sampling noise from the `prior`, calls to the transition kernels of the `diffusion`, and parameterizing the `backbone` to match the score."
   ]
  },
  {
   "cell_type": "code",
   "execution_count": null,
   "metadata": {},
   "outputs": [],
   "source": [
    "!pwd\n",
    "!mkdir models"
   ]
  },
  {
   "cell_type": "code",
   "execution_count": null,
   "metadata": {
    "id": "DKShurrs0Ud2"
   },
   "outputs": [],
   "source": [
    "trainer = DiffusionTrainer(diffusion,\n",
    "                           backbone,\n",
    "                           train_loader,\n",
    "                           prior,\n",
    "                           model_dir=\"thermomaps-root/models\", # save models every epoch\n",
    "                           pred_type=\"x0\", # set to \"noise\" or \"x0\"\n",
    "#                            test_loader=test_loader # optional\n",
    "                           )"
   ]
  },
  {
   "cell_type": "code",
   "execution_count": null,
   "metadata": {
    "colab": {
     "base_uri": "https://localhost:8080/"
    },
    "id": "awYHZHHUEhMX",
    "outputId": "b3f6d247-df1d-42f5-9448-73ab4ebe60ee",
    "scrolled": false
   },
   "outputs": [],
   "source": [
    "trainer.train(5, loss_type=\"smooth_l1\", batch_size=16)\n",
    "# Note that the test loss is usually slightly lower than the training loss. This is because\n",
    "# the training loss is averaged over each epoch (which contains many updates to the weights\n",
    "# via backprop) while the test loss is evaluated at the end of each epoch. Is there a\n",
    "# better way to do this? Probably. But it's low priority at the moment."
   ]
  },
  {
   "cell_type": "markdown",
   "metadata": {
    "id": "heK5m4xj4O7s"
   },
   "source": [
    "The `sampler` is similar to the `trainer`, but rather than calling the $p(x_0|x_t)$ kernel, the `sampler` iteratively calls the $p(x_{t-1}|x_t)$ kernel."
   ]
  },
  {
   "cell_type": "code",
   "execution_count": null,
   "metadata": {},
   "outputs": [],
   "source": [
    "# import torch \n",
    "\n",
    "# backbone.save_path()?\n",
    "\n",
    "# # torch.save(model.state_dict(), 'saved_model.pth')\n"
   ]
  },
  {
   "cell_type": "code",
   "execution_count": null,
   "metadata": {},
   "outputs": [],
   "source": []
  },
  {
   "cell_type": "code",
   "execution_count": null,
   "metadata": {},
   "outputs": [],
   "source": []
  },
  {
   "cell_type": "code",
   "execution_count": null,
   "metadata": {
    "id": "eypC6tCJ4PJx"
   },
   "outputs": [],
   "source": [
    "sampler = SteeredDiffusionSampler(diffusion,\n",
    "                                  backbone,\n",
    "                                  train_loader,\n",
    "                                  prior,\n",
    "                                  pred_type='noise', # must be the same as in DiffusionTrainer\n",
    "                                  )"
   ]
  },
  {
   "cell_type": "code",
   "execution_count": null,
   "metadata": {},
   "outputs": [],
   "source": [
    "\n",
    " samples = sampler.sample_loop(num_samples=4040, batch_size=16, temperature=1)"
   ]
  },
  {
   "cell_type": "code",
   "execution_count": null,
   "metadata": {},
   "outputs": [],
   "source": [
    "# import torch"
   ]
  },
  {
   "cell_type": "code",
   "execution_count": null,
   "metadata": {},
   "outputs": [],
   "source": [
    "output_tensor = torch.where((samples < 0) | (samples > 5), torch.zeros_like(samples), samples)\n",
    "np_samples = output_tensor.numpy()\n",
    "\n"
   ]
  },
  {
   "cell_type": "code",
   "execution_count": null,
   "metadata": {},
   "outputs": [],
   "source": [
    "np_samples.shape"
   ]
  },
  {
   "cell_type": "code",
   "execution_count": null,
   "metadata": {},
   "outputs": [],
   "source": [
    "print(np_samples.min())"
   ]
  },
  {
   "cell_type": "code",
   "execution_count": null,
   "metadata": {},
   "outputs": [],
   "source": [
    "tmp = np_samples[7,0,:,:]\n",
    "plt.imshow(tmp)\n",
    "plt.colorbar()\n"
   ]
  },
  {
   "cell_type": "code",
   "execution_count": null,
   "metadata": {},
   "outputs": [],
   "source": []
  },
  {
   "cell_type": "code",
   "execution_count": null,
   "metadata": {},
   "outputs": [],
   "source": [
    "\n",
    "\n",
    "\n",
    "\n",
    "# concatenate_all_data"
   ]
  },
  {
   "cell_type": "code",
   "execution_count": null,
   "metadata": {},
   "outputs": [],
   "source": [
    "from sklearn.decomposition import PCA\n",
    "from sklearn.preprocessing import StandardScaler\n",
    "\n",
    "\n",
    "# (32, 4, 15, 15)\n",
    "\n",
    "tmp = np_samples[:,:3,:,:].reshape(4032,-1)\n",
    "# tmp.reshape(4040,-1)\n",
    "# concatenate_all_data[0,:,:,:].reshape(4040,15*15)\n",
    "contact_map =  tmp.reshape(4032,-1)\n",
    "# tmp = distance_matrix_x[:,:,:].reshape(501,15*15)\n",
    "# tmp = training_sample.reshape(501,-1)\n",
    "# contact_map = tmp\n",
    "# Standardize the data\n",
    "# scaler = StandardScaler()\n",
    "# contact_map_standardized = scaler.fit_transform(contact_map)\n",
    "\n",
    "# Apply PCA\n",
    "pca = PCA(n_components=2)  # Adjust n_components as needed\n",
    "principal_components = pca.fit_transform(contact_map)\n",
    "\n",
    "# The result\n",
    "print(\"Principal components:\\n\", principal_components)\n",
    "print(principal_components.shape)\n",
    "\n",
    "plt.scatter(principal_components[:,0],principal_components[:,1],s=1)\n"
   ]
  },
  {
   "cell_type": "code",
   "execution_count": null,
   "metadata": {},
   "outputs": [],
   "source": [
    "beta=1\n",
    "#choose 2 H-bonds (STI530 - GLU305,STI530 - THR334) and plot heat map\n",
    "\n",
    "# plt.scatter(principal_components[:,0],principal_components[:,1],s=1)\n",
    "\n",
    "FW_counts,FW_xbins,FW_ybins,images = plt.hist2d(principal_components[:,0],principal_components[:,1],bins=50)\n",
    "FW_counts[FW_counts==0]=FW_counts[FW_counts!=0].min()\n",
    "FW_G=-np.log(FW_counts)/beta\n",
    "FW_G=FW_G-np.nanmin(FW_G)\n",
    "\n",
    "plt.contourf(FW_G.transpose(),levels=5,extent=[FW_xbins[0],FW_xbins[-1],FW_ybins[0],FW_ybins[-1]],cmap='jet')\n",
    "cb = plt.colorbar()\n",
    "cb.set_label('density',fontsize=14)"
   ]
  },
  {
   "cell_type": "code",
   "execution_count": null,
   "metadata": {},
   "outputs": [],
   "source": []
  },
  {
   "cell_type": "code",
   "execution_count": null,
   "metadata": {},
   "outputs": [],
   "source": []
  },
  {
   "cell_type": "code",
   "execution_count": null,
   "metadata": {},
   "outputs": [],
   "source": []
  },
  {
   "cell_type": "code",
   "execution_count": null,
   "metadata": {},
   "outputs": [],
   "source": []
  },
  {
   "cell_type": "code",
   "execution_count": null,
   "metadata": {},
   "outputs": [],
   "source": []
  },
  {
   "cell_type": "code",
   "execution_count": null,
   "metadata": {},
   "outputs": [],
   "source": []
  },
  {
   "cell_type": "markdown",
   "metadata": {
    "id": "FtCQp42L40Yz"
   },
   "source": [
    "With our trained model, we generated samples at a range of different temperatures, store the coordinates in an `EnsembleTrajectory` object, and evaluate observables over the coordinates of the trajectory. Note that there is no temporal order between points in the trajectory, as was the case of the Ising simulator."
   ]
  },
  {
   "cell_type": "code",
   "execution_count": null,
   "metadata": {
    "colab": {
     "base_uri": "https://localhost:8080/"
    },
    "id": "wH_KPSnoOaUE",
    "outputId": "397d9ca4-896a-4299-c26d-1b31b51654b0"
   },
   "outputs": [],
   "source": [
    "trajectories = []\n",
    "pbar = tqdm(np.arange(0.3, 3.5, 0.2))\n",
    "for temperature in pbar:\n",
    "  pbar.set_description(f\"Generating at T={temperature:.1f}\")\n",
    "  samples = sampler.sample_loop(num_samples=5000, batch_size=5000, temperature=temperature)\n",
    "  coords = samples[:,0,:,:].numpy() # take coordinate dimension\n",
    "  # binarize\n",
    "  coords[coords > 0] = 1\n",
    "  coords[coords < 0] = -1\n",
    "\n",
    "  # store in trajectory\n",
    "  trajectory = EnsembleTrajectory(summary=Summary(info=\"Generated trajectory\"),\n",
    "                                  state_variables=Summary(temperature=temperature),\n",
    "                                  coordinates=coords)\n",
    "\n",
    "  # evaluate observables over trajectory coordinates and add to trajectory object\n",
    "  energy = Energy()\n",
    "  energy.evaluate(trajectory.coordinates)\n",
    "\n",
    "  mag = Magnetization()\n",
    "  mag.evaluate(trajectory.coordinates)\n",
    "\n",
    "  trajectory.add_observable(energy)\n",
    "  trajectory.add_observable(mag)\n",
    "  trajectories.append(trajectory)"
   ]
  },
  {
   "cell_type": "code",
   "execution_count": null,
   "metadata": {
    "id": "SZRlG4t_Obk7"
   },
   "outputs": [],
   "source": [
    "generated_M_v_T_mean = {t.state_variables['temperature']: t.observables['magnetization'].quantity.mean() for t in trajectories}\n",
    "generated_E_v_T_mean = {t.state_variables['temperature']: t.observables['energy'].quantity.mean() for t in trajectories}\n",
    "generated_M_v_T_std = {t.state_variables['temperature']: t.observables['magnetization'].quantity.std() for t in trajectories}\n",
    "generated_E_v_T_std = {t.state_variables['temperature']: t.observables['energy'].quantity.std() for t in trajectories}"
   ]
  },
  {
   "cell_type": "markdown",
   "metadata": {
    "id": "_enBJZzP5al1"
   },
   "source": [
    "We find remarkable agreement overlaying the $M(T)$ and $E(T)$ dependence of the ThermoMap-generated and simulated samples."
   ]
  },
  {
   "cell_type": "code",
   "execution_count": null,
   "metadata": {
    "colab": {
     "base_uri": "https://localhost:8080/",
     "height": 592
    },
    "id": "YQk5rDc7P4MQ",
    "outputId": "9049bbbb-2341-4dac-93e7-dcf172e1eea1"
   },
   "outputs": [],
   "source": [
    "# Vary these to view different trajectories/configurations\n",
    "trajectory_idx = -1\n",
    "frame = -1\n",
    "\n",
    "default_blue = plt.rcParams['axes.prop_cycle'].by_key()['color'][0]\n",
    "default_orange = plt.rcParams['axes.prop_cycle'].by_key()['color'][1]\n",
    "\n",
    "fig, (ax1, ax2, ax3) = plt.subplots(1, 3, figsize=(12, 4), dpi=150)\n",
    "\n",
    "# Plot the simulated ising data\n",
    "ax1.plot(list(simulated_M_v_T_mean.keys()), list(simulated_M_v_T_mean.values()), c=default_blue, marker='o', label=\"MC-simulated\")\n",
    "ax1.fill_between(list(simulated_M_v_T_mean.keys()),\n",
    "                 [max(m - s, 0) for m, s in zip(simulated_M_v_T_mean.values(), simulated_M_v_T_std.values())],\n",
    "                 [min(m + s, 1) for m, s in zip(simulated_M_v_T_mean.values(), simulated_M_v_T_std.values())],\n",
    "                 alpha=0.2, color=default_blue)\n",
    "\n",
    "# Plot the generated ising data\n",
    "ax1.plot(list(generated_M_v_T_mean.keys()), list(generated_M_v_T_mean.values()), c=default_orange, marker='o', label=\"TM-simulated\")\n",
    "ax1.fill_between(list(simulated_M_v_T_mean.keys()),\n",
    "                 [max(m - s, 0) for m, s in zip(generated_M_v_T_mean.values(), generated_M_v_T_std.values())],\n",
    "                 [min(m + s, 1) for m, s in zip(generated_M_v_T_mean.values(), generated_M_v_T_std.values())],\n",
    "                 alpha=0.2, color=default_orange)\n",
    "\n",
    "# Plot the training data\n",
    "ax1.scatter(list(train_M_v_T.keys()), list(train_M_v_T.values()), c='r', marker='*', edgecolors='k', s=200, zorder=2, label='Train Data')\n",
    "\n",
    "ax1.set_ylabel('Magnetization')\n",
    "ax1.set_xlabel('Temperature')\n",
    "\n",
    "# Plot the simulated ising data\n",
    "ax2.plot(list(simulated_E_v_T_mean.keys()), list(simulated_E_v_T_mean.values()), c=default_blue, marker='o', label=\"MC-simulated\")\n",
    "ax2.fill_between(list(simulated_E_v_T_mean.keys()),\n",
    "                 [m - s for m, s in zip(simulated_E_v_T_mean.values(), simulated_E_v_T_std.values())],\n",
    "                 [m + s for m, s in zip(simulated_E_v_T_mean.values(), simulated_E_v_T_std.values())],\n",
    "                 alpha=0.2, color=default_blue)\n",
    "\n",
    "# Plot the generated ising data\n",
    "ax2.plot(list(generated_E_v_T_mean.keys()), list(generated_E_v_T_mean.values()), c=default_orange, marker='o', label=\"TM-simulated\")\n",
    "ax2.fill_between(list(simulated_E_v_T_mean.keys()),\n",
    "                 [m - s for m, s in zip(generated_E_v_T_mean.values(), generated_E_v_T_std.values())],\n",
    "                 [m + s for m, s in zip(generated_E_v_T_mean.values(), generated_E_v_T_std.values())],\n",
    "                 alpha=0.2, color=default_orange)\n",
    "\n",
    "# Plot the training data\n",
    "ax2.scatter(list(train_E_v_T.keys()), list(train_E_v_T.values()), c='r', marker='*', edgecolors='k', s=200, zorder=2, label='Train Data')\n",
    "\n",
    "ax2.set_ylabel('Energy')\n",
    "ax2.set_xlabel('Temperature')\n",
    "\n",
    "img = ax3.imshow(trajectories[trajectory_idx].coordinates[frame], aspect='equal', cmap='binary')\n",
    "ax3.set_title(f'Frame {range(len(trajectories[trajectory_idx].coordinates))[frame]} of gen. traj. at T = {round(trajectories[trajectory_idx].state_variables[\"temperature\"], 2)}')\n",
    "ax3.set_xticks([])\n",
    "ax3.set_yticks([])\n",
    "\n",
    "ax1.legend()\n",
    "ax2.legend()\n",
    "plt.tight_layout()\n",
    "plt.show()"
   ]
  },
  {
   "cell_type": "code",
   "execution_count": null,
   "metadata": {
    "colab": {
     "base_uri": "https://localhost:8080/",
     "height": 589
    },
    "id": "r6jFKUphp9GC",
    "outputId": "e1f0031c-0b09-4d3d-f9b5-33123e8fc330"
   },
   "outputs": [],
   "source": [
    "fig, (ax1, ax2) = plt.subplots(1, 2, figsize=(8, 4), dpi=150)\n",
    "\n",
    "ax1.plot(list(simulated_M_v_T_mean.keys()),\n",
    "        -np.gradient(np.array(list(simulated_M_v_T_mean.values())), list(simulated_M_v_T_mean.keys())),\n",
    "        c=default_blue, marker='o', label=\"MC\")\n",
    "\n",
    "ax1.plot(list(generated_M_v_T_mean.keys()),\n",
    "        -np.gradient(np.array(list(generated_M_v_T_mean.values())), list(generated_M_v_T_mean.keys())),\n",
    "        c=default_orange, marker='o', label=\"TM\")\n",
    "\n",
    "ax2.plot(list(simulated_E_v_T_mean.keys()),\n",
    "        np.gradient(np.array(list(simulated_E_v_T_mean.values()))/8**2, list(simulated_E_v_T_mean.keys())),\n",
    "        c=default_blue, marker='o', label=\"MC\")\n",
    "\n",
    "ax2.plot(list(generated_E_v_T_mean.keys()),\n",
    "        np.gradient(np.array(list(generated_E_v_T_mean.values()))/8**2, list(generated_E_v_T_mean.keys())),\n",
    "        c=default_orange, marker='o', label=\"TM\")\n",
    "\n",
    "ax1.set_xlabel(\"Temperature\")\n",
    "ax1.set_ylabel(fr\"$-\\partial M/\\partial T$\")\n",
    "ax1.legend()\n",
    "\n",
    "ax2.set_xlabel(\"Temperature\")\n",
    "ax2.set_ylabel(fr\"$C/k_BN = \\partial E/\\partial T$\")\n",
    "ax2.legend()\n"
   ]
  },
  {
   "cell_type": "code",
   "execution_count": null,
   "metadata": {
    "id": "FIu-Pr_gThCk"
   },
   "outputs": [],
   "source": [
    "\n"
   ]
  },
  {
   "cell_type": "code",
   "execution_count": null,
   "metadata": {},
   "outputs": [],
   "source": []
  }
 ],
 "metadata": {
  "accelerator": "GPU",
  "colab": {
   "authorship_tag": "ABX9TyOG6YmPZf+3DfspQp9GHyVJ",
   "gpuType": "T4",
   "include_colab_link": true,
   "provenance": []
  },
  "kernelspec": {
   "display_name": "Python 3 (ipykernel)",
   "language": "python",
   "name": "python3"
  },
  "language_info": {
   "codemirror_mode": {
    "name": "ipython",
    "version": 3
   },
   "file_extension": ".py",
   "mimetype": "text/x-python",
   "name": "python",
   "nbconvert_exporter": "python",
   "pygments_lexer": "ipython3",
   "version": "3.10.8"
  }
 },
 "nbformat": 4,
 "nbformat_minor": 1
}
