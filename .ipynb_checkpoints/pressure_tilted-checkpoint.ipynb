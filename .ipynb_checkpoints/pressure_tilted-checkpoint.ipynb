{
 "cells": [
  {
   "cell_type": "code",
   "execution_count": 1,
   "id": "3dbbdec6-34ce-425a-a180-af88f39ba186",
   "metadata": {},
   "outputs": [],
   "source": [
    "#!/usr/bin/env python\n",
    "# coding: utf-8\n",
    "\n",
    "import os\n",
    "# Define the path to the directory you want to change to\n",
    "dirc_path = 'thermomaps-root'\n",
    "os.chdir(dirc_path)\n",
    "\n",
    "from os import system\n",
    "\n",
    "system('pip -q install .')\n",
    "system('pip install -qr requirements.txt')\n",
    "\n",
    "\n",
    "import numpy as np\n",
    "import matplotlib.pyplot as plt\n",
    "from tqdm import tqdm\n",
    "\n",
    "from ising.observables import Energy, Magnetization\n",
    "from ising.samplers import SwendsenWangSampler, SingleSpinFlipSampler\n",
    "from ising.base import IsingModel\n",
    "\n",
    "from data.trajectory import EnsembleTrajectory, MultiEnsembleTrajectory\n",
    "from data.dataset import MultiEnsembleDataset\n",
    "from data.generic import Summary\n",
    "\n",
    "from tm.core.prior import GlobalEquilibriumHarmonicPrior, UnitNormalPrior\n",
    "from tm.core.backbone import ConvBackbone\n",
    "from tm.core.diffusion_model import DiffusionTrainer, SteeredDiffusionSampler\n",
    "from tm.core.diffusion_process import VPDiffusion\n",
    "from tm.architectures.unet_2d_mid_attn import Unet2D\n",
    "#from tm.architectures.UNet2D_pbc import Unet2D\n",
    "\n",
    "import os\n",
    "if not os.path.exists('plots/'):\n",
    "    os.mkdir('plots')\n",
    "\n"
   ]
  },
  {
   "cell_type": "code",
   "execution_count": 3,
   "id": "aed0d9c2-ec51-4c3d-9f92-46f1d5f23ec0",
   "metadata": {},
   "outputs": [
    {
     "name": "stdout",
     "output_type": "stream",
     "text": [
      "Original shape: (10000, 4, 15, 15)\n",
      "(10000, 4, 15, 15)\n",
      "Expanded shape: (10000, 4, 15, 15)\n"
     ]
    }
   ],
   "source": [
    "import numpy as np\n",
    "\n",
    "# Load data\n",
    "p_data_coordinate = np.load('data/concatenate_all_data.npy')\n",
    "\n",
    "# Transpose data to shape (10000, 4, 15, 15)\n",
    "p_data_coordinate = p_data_coordinate.transpose(0, 3, 1, 2)\n",
    "\n",
    "# Verify the new shape\n",
    "print(\"Original shape:\", p_data_coordinate.shape)\n",
    "\n",
    "# Initialize pressure values\n",
    "pressure = np.array([1.0, 10000.0])\n",
    "pressure_list = np.ones(10000)\n",
    "temperature_list = 400* np.ones(10000)\n",
    "\n",
    "\n",
    "for i in range(2):\n",
    "    pressure_list[5000*i:5000*(i+1)] = pressure[i]\n",
    "\n",
    "# Add two additional channels for temperature and pressure\n",
    "expanded_data = np.zeros((p_data_coordinate.shape[0],4, p_data_coordinate.shape[2], p_data_coordinate.shape[3]))\n",
    "\n",
    "# Copy original data to the expanded array\n",
    "expanded_data[:, :4, :, :] = p_data_coordinate\n",
    "print(expanded_data.shape)\n",
    "\n",
    "# Set the 4th channel to 400 (temperature)\n",
    "expanded_data[:, 3, :, :] = 400\n",
    "\n",
    "# Set the 5th channel to the pressure values\n",
    "# expanded_data[:, 4, :, :] = pressure_list[:, np.newaxis, np.newaxis]\n",
    "\n",
    "# Create trajectory dictionary\n",
    "trajectoryP = {'coordinate': [], 'state_variables': [],'state_variables_P': []}\n",
    "trajectoryP['coordinate'] = expanded_data[:, :4, :, :]\n",
    "trajectoryP['state_variables_P'] = pressure_list\n",
    "trajectoryP['state_variables'] = temperature_list\n",
    "\n",
    "\n",
    "# Verify the new shape\n",
    "print(\"Expanded shape:\", expanded_data.shape)\n"
   ]
  },
  {
   "cell_type": "code",
   "execution_count": 4,
   "id": "fa0965aa-fc95-482e-abf3-8b58315a8638",
   "metadata": {},
   "outputs": [],
   "source": [
    "# import importlib\n",
    "# importlib.reload(tm.core.loader)\n",
    "from tm.core.loader import Loader\n",
    "train_loader = Loader(data=trajectoryP['coordinate'], temperatures=trajectoryP['state_variables'][:,None],control_dims=(3,4))#, **TMLoader_kwargs)\n",
    "\n",
    "\n",
    "\n",
    "prior = GlobalEquilibriumHarmonicPrior(shape=train_loader.data.shape, channels_info={\"coordinate\": [0,1,2], \"fluctuation\": [3]})\n",
    "model = Unet2D(dim=16, dim_mults=(1, 2, 4), resnet_block_groups=8, channels=4)\n",
    "\n",
    "\n",
    "\n",
    "backbone = ConvBackbone(model=model,\n",
    "                        data_shape=train_loader.data_dim,\n",
    "                        target_shape=16,\n",
    "                        num_dims=4,\n",
    "                        lr=1e-3,\n",
    "                        eval_mode=\"train\",\n",
    "                        self_condition=True)\n",
    "\n",
    "\n",
    "diffusion = VPDiffusion(num_diffusion_timesteps=100)\n",
    "\n",
    "if not os.path.exists('models'):\n",
    "    os.mkdir('models')\n",
    "\n"
   ]
  },
  {
   "cell_type": "code",
   "execution_count": 5,
   "id": "de7261a3-68c4-4d84-a4d9-5eacf7e88e67",
   "metadata": {},
   "outputs": [
    {
     "name": "stdout",
     "output_type": "stream",
     "text": [
      "epoch: 0 | train loss: 31.926\n",
      "epoch: 1 | train loss: 12.044\n"
     ]
    }
   ],
   "source": [
    "\n",
    "\n",
    "trainer = DiffusionTrainer(diffusion,\n",
    "                           backbone,\n",
    "                           train_loader,\n",
    "                           prior,\n",
    "                           model_dir=\"thermomaps-root/models\", # save models every epoch\n",
    "                           pred_type=\"x0\", # set to \"noise\" or \"x0\"\n",
    "#                            test_loader=test_loader # optional\n",
    "                           )\n",
    "\n",
    "trainer.train(2, loss_type=\"smooth_l1\", batch_size=64)\n",
    "\n"
   ]
  },
  {
   "cell_type": "code",
   "execution_count": 6,
   "id": "c92235c3-b03d-4462-91a0-1c15654ef12b",
   "metadata": {},
   "outputs": [],
   "source": [
    "\n",
    "# *********************************************************************************\n",
    "#                               Sampling\n",
    "# *********************************************************************************\n",
    "sampler = SteeredDiffusionSampler(diffusion,\n",
    "                                  backbone,\n",
    "                                  train_loader,\n",
    "                                  prior,\n",
    "                                  pred_type='x0', # must be the same as in DiffusionTrainer\n",
    "                                  )\n",
    "\n",
    "\n",
    "num_samp = 2\n",
    "samples = sampler.sample_loop(num_samples=num_samp, batch_size=32, temperature=400)\n",
    "\n"
   ]
  },
  {
   "cell_type": "code",
   "execution_count": 8,
   "id": "d9755cad-8f82-4e38-a71e-77add33ff00f",
   "metadata": {},
   "outputs": [
    {
     "data": {
      "image/png": "[encoded data removed]",
      "text/plain": [
       "<Figure size 640x480 with 2 Axes>"
      ]
     },
     "metadata": {},
     "output_type": "display_data"
    },
    {
     "data": {
      "image/png": "[encoded data removed]",
      "text/plain": [
       "<Figure size 640x480 with 2 Axes>"
      ]
     },
     "metadata": {},
     "output_type": "display_data"
    }
   ],
   "source": [
    "\n",
    "np_samples = samples.numpy()\n",
    "pca_size = np_samples.shape[0]\n",
    "\n",
    "if not os.path.exists('plots/'):\n",
    "    os.mkdir('plots')\n",
    "\n",
    "for i in range(2):\n",
    "    tmp = np_samples[i,0,:,:]\n",
    "    plt.figure()\n",
    "    plt.imshow(tmp)\n",
    "    plt.colorbar()\n",
    "    plt.savefig('plots/sample_contact_map_%i'%i+'.pdf')\n",
    "# samples\n"
   ]
  },
  {
   "cell_type": "code",
   "execution_count": null,
   "id": "616d9b57-7bc1-416c-8897-789a3988f265",
   "metadata": {},
   "outputs": [],
   "source": []
  }
 ],
 "metadata": {
  "kernelspec": {
   "display_name": "Python 3 (ipykernel)",
   "language": "python",
   "name": "python3"
  },
  "language_info": {
   "codemirror_mode": {
    "name": "ipython",
    "version": 3
   },
   "file_extension": ".py",
   "mimetype": "text/x-python",
   "name": "python",
   "nbconvert_exporter": "python",
   "pygments_lexer": "ipython3",
   "version": "3.10.13"
  }
 },
 "nbformat": 4,
 "nbformat_minor": 5
}
