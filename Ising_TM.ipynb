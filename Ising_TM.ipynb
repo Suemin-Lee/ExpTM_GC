{
  "nbformat": 4,
  "nbformat_minor": 0,
  "metadata": {
    "colab": {
      "provenance": [],
      "gpuType": "T4",
      "authorship_tag": "ABX9TyNuGmeeU8Ozci8TEvdMaJzZ",
      "include_colab_link": true
    },
    "kernelspec": {
      "name": "python3",
      "display_name": "Python 3"
    },
    "language_info": {
      "name": "python"
    },
    "accelerator": "GPU"
  },
  "cells": [
    {
      "cell_type": "markdown",
      "metadata": {
        "id": "view-in-github",
        "colab_type": "text"
      },
      "source": [
        "<a href=\"https://colab.research.google.com/github/lherron2/thermomaps-ising/blob/main/Ising_TM.ipynb\" target=\"_parent\"><img src=\"https://colab.research.google.com/assets/colab-badge.svg\" alt=\"Open In Colab\"/></a>"
      ]
    },
    {
      "cell_type": "code",
      "execution_count": 1,
      "metadata": {
        "colab": {
          "base_uri": "https://localhost:8080/"
        },
        "id": "lIyTPcnP31nE",
        "outputId": "0215ba31-9bb3-47c2-e4a6-a5e1365acb79"
      },
      "outputs": [
        {
          "output_type": "stream",
          "name": "stdout",
          "text": [
            "/content\n",
            "Cloning into 'thermomaps-ising'...\n",
            "remote: Enumerating objects: 246, done.\u001b[K\n",
            "remote: Counting objects: 100% (246/246), done.\u001b[K\n",
            "remote: Compressing objects: 100% (89/89), done.\u001b[K\n",
            "remote: Total 246 (delta 129), reused 228 (delta 114), pack-reused 0\u001b[K\n",
            "Receiving objects: 100% (246/246), 47.78 KiB | 1.77 MiB/s, done.\n",
            "Resolving deltas: 100% (129/129), done.\n",
            "/content/thermomaps-ising/thermomaps-root\n",
            "Obtaining file:///content/thermomaps-ising/thermomaps-root\n",
            "  Preparing metadata (setup.py) ... \u001b[?25l\u001b[?25hdone\n",
            "Installing collected packages: thermomaps\n",
            "  Running setup.py develop for thermomaps\n",
            "Successfully installed thermomaps-0.1\n",
            "Requirement already satisfied: einops in /usr/local/lib/python3.10/dist-packages (0.7.0)\n"
          ]
        }
      ],
      "source": [
        "# Clone repo\n",
        "%cd /content/\n",
        "!rm -rf thermomaps-ising\n",
        "!git clone https://github.com/lherron2/thermomaps-ising.git\n",
        "\n",
        "# Install repo\n",
        "%cd /content/thermomaps-ising/thermomaps-root/\n",
        "!pip install -e .\n",
        "!pip install einops"
      ]
    },
    {
      "cell_type": "code",
      "source": [
        "import os\n",
        "import ising\n",
        "import numpy as np\n",
        "import matplotlib.pyplot as plt\n",
        "\n",
        "from ising.swedsen_wang_simulator import IsingSwendsenWang, Energy, Magnetization\n",
        "\n",
        "from tm.core.Backbone import ConvBackbone\n",
        "from tm.core.DiffusionModel import DiffusionTrainer, SteeredDiffusionSampler\n",
        "from tm.core.DiffusionProcesses import VPDiffusion\n",
        "from tm.core.Loader import Loader\n",
        "from tm.core.Prior import GlobalEquilibriumHarmonicPrior\n",
        "from tm.core.utils import compute_model_dim\n",
        "\n",
        "from tm.architectures.UNet2D_mid_attn import Unet2D\n"
      ],
      "metadata": {
        "id": "YGLdo7pj4G0C"
      },
      "execution_count": 36,
      "outputs": []
    },
    {
      "cell_type": "code",
      "source": [
        "class IsingArgs:\n",
        "  size = 8\n",
        "  warm_up = 1000\n",
        "  steps = 1000\n",
        "  temp = 2\n",
        "  Jx = 1\n",
        "  Jy = 1\n",
        "  sampling_frequency = 1\n",
        "  filename = \"ising\""
      ],
      "metadata": {
        "id": "2M3Ncjce6a4l"
      },
      "execution_count": 3,
      "outputs": []
    },
    {
      "cell_type": "code",
      "source": [
        "dataset, paired_temperatures, trajectory_fluctuation_dict = [], [], {}\n",
        "temperatures = [1,2,3]\n",
        "\n",
        "# Generating data at three temperatures using Swedsen-Wang sampling\n",
        "for sim_idx, temp in enumerate(temperatures):\n",
        "\n",
        "  observables = [Energy(Jx = IsingArgs.Jx, Jy = IsingArgs.Jy), Magnetization()]\n",
        "\n",
        "  # Initialize simulation\n",
        "  sim = IsingSwendsenWang(size = IsingArgs.size, warm_up = IsingArgs.warm_up,\n",
        "                          temp = temp, Jx = 1, Jy = 1)\n",
        "\n",
        "  # Run simulation\n",
        "  results = sim.simulate(steps = IsingArgs.steps, observables = observables,\n",
        "                         sampling_frequency = IsingArgs.sampling_frequency)\n",
        "\n",
        "  # Coordinates are lattice configurations\n",
        "  coordinates = np.expand_dims(results['lattice'], 1)\n",
        "\n",
        "  # Fluctuations are temperatures (coordinates are sampled from the global equilibrium distribution)\n",
        "  fluctuations = np.ones_like(coordinates) * temp\n",
        "\n",
        "  # Form the TM input data by joining coordinates and fluctuations along the channel axis\n",
        "  data = np.concatenate((coordinates, fluctuations), axis=1)\n",
        "\n",
        "  dataset.append(data)\n",
        "\n",
        "  # Each coordinate trajectory was collected at a temperature and has associated fluctuations\n",
        "  # (include sim_idx in case there are repeat temperatures)\n",
        "  trajectory_fluctuation_dict[f\"{temp}_{sim_idx}\"] = fluctuations\n",
        "\n",
        "  # Each coordinate frame is paired with a temperature\n",
        "  temps_arr = np.ones(len(coordinates)) * temp\n",
        "  paired_temperatures.append(temps_arr)\n",
        "\n",
        "dataset = np.concatenate(dataset)\n",
        "paired_temperatures = np.concatenate(paired_temperatures)"
      ],
      "metadata": {
        "id": "dxZbL4uG5LAG"
      },
      "execution_count": 4,
      "outputs": []
    },
    {
      "cell_type": "markdown",
      "source": [
        "The inputs to the `Loader` are the dataset and the temperatures associated with each sample, and control parameters. The control axis is the axis of the data containing the data that is to be controlled. For example, the default of `control_axis = 1` indicates that the control parameters may be retrieved along the channel dimension of the data, assuming the data is of shape `(n_samples, n_channels, x, y)`. In the provided example there are two channels: one containing lattice configurations and another containing the temperatures. Since the temperatures are the second dimension along the `control_axis`, we set `control_dims=(1,2)`. This way, the temperatures can be retrieved using a `loader.control_slice` via `loader.data[loader.control_slice]`.\n",
        "\n",
        "\n",
        "\n"
      ],
      "metadata": {
        "id": "5Zkuolccxm6p"
      }
    },
    {
      "cell_type": "code",
      "source": [
        "loader = Loader(data = dataset, temperatures = paired_temperatures,\n",
        "                control_axis = 1, control_dims = (1,2))"
      ],
      "metadata": {
        "id": "4dK81IhFks6S"
      },
      "execution_count": 5,
      "outputs": []
    },
    {
      "cell_type": "markdown",
      "source": [
        "The `GlobalEquilibriumHarmonicPrior` (`GEHP`) is responsible for sampling the prior at the correct temperature. The inputs to the `GEHP` is a dictionary `trajectory_fluctuation_dict` containing key-value pairs of generated coordinate trajectories, and the temperatures that the trajectories were generated at."
      ],
      "metadata": {
        "id": "5lIm9PG0x63e"
      }
    },
    {
      "cell_type": "code",
      "source": [
        "GEHP = GlobalEquilibriumHarmonicPrior(data=trajectory_fluctuation_dict)"
      ],
      "metadata": {
        "id": "lYeYBZ2IzGF-"
      },
      "execution_count": 6,
      "outputs": []
    },
    {
      "cell_type": "markdown",
      "source": [
        "The format required as input for the `GEHP` might seem convoluted, but that is because there is also a `LocalEquilibriumHarmonicPrior` (`LEHP`) that performs the computations associated with fluctuation mapping. This involves computing fluctuations over each trajectory in the input dictionary, and fitting a multi-linear function to the (temperatures, fluctuation) data."
      ],
      "metadata": {
        "id": "-BbjVBfttV2P"
      }
    },
    {
      "cell_type": "markdown",
      "source": [
        "Next we initialize the black-box `model(nn.Module)` that will be parameterized during training. In this case, the `model` is a 2D U-net with attention at the bottleneck layer."
      ],
      "metadata": {
        "id": "u8_BVMDB49Gw"
      }
    },
    {
      "cell_type": "code",
      "source": [
        "# get model dim that is compatible w/ data shape + possible model shapes.\n",
        "model_dim = compute_model_dim(loader.data_dim, groups=8)\n",
        "model = Unet2D(\n",
        "    dim=model_dim,\n",
        "    dim_mults=(1, 2, 2, 4), # downsampling/upsampling factors before/after bottleneck\n",
        "    resnet_block_groups=8,\n",
        "    self_condition=True, # greatly improves training convergence when data is limited\n",
        "    learned_sinusoidal_cond=True,\n",
        "    channels=2, # two channels for Ising model data\n",
        ")"
      ],
      "metadata": {
        "id": "K5Z-tURH40HA"
      },
      "execution_count": 7,
      "outputs": []
    },
    {
      "cell_type": "markdown",
      "source": [
        "The `backbone` is a wrapper class around `model` that contains methods used to load and save models, and automatically upsamples image-structured data to match the dimensions of the model."
      ],
      "metadata": {
        "id": "5TX29TRa5ZD1"
      }
    },
    {
      "cell_type": "code",
      "source": [
        "backbone = ConvBackbone(\n",
        "    model=model,\n",
        "    data_shape=loader.data_dim,\n",
        "    target_shape=model_dim, # data is upsampled to this resolution\n",
        "    num_dims=4, # (n_sample, n_channel, n_x, n_y)\n",
        "    lr=1e-3,\n",
        "    eval_mode=\"train\",\n",
        "    self_condition=True,\n",
        "    )"
      ],
      "metadata": {
        "id": "rxwd0_kV5Ylm"
      },
      "execution_count": 8,
      "outputs": []
    },
    {
      "cell_type": "markdown",
      "source": [
        "The `VPDiffusion` class contains methods to evaluate forward and reverse diffusion kernels for the Variance Preserving diffusion process described in Song (2019)."
      ],
      "metadata": {
        "id": "K7qTJUFO6BhZ"
      }
    },
    {
      "cell_type": "code",
      "source": [
        "diffusion = VPDiffusion(num_diffusion_timesteps=100)"
      ],
      "metadata": {
        "id": "siefDC705-Jf"
      },
      "execution_count": 9,
      "outputs": []
    },
    {
      "cell_type": "markdown",
      "source": [
        "A `DiffusionTrainer` trains a `backbone` model to reverse the diffusion process (`VPDiffusion`) applied to coordinates (`dataset` in `Loader`). Optionally, the model can be trained to predict the original samples directly (`pred_type=x0`) or the noise used to corrupt the sample (`pred_type=noise`)."
      ],
      "metadata": {
        "id": "fTEen9Ju9XT1"
      }
    },
    {
      "cell_type": "code",
      "source": [
        "trainer = DiffusionTrainer(diffusion, backbone, loader, model_dir='/content/TM/models',\n",
        "                           pred_type='x0', prior=GEHP, device='cuda:0')\n",
        "trainer.train(5, loss_type=\"l2\", batch_size=16, print_freq=10)"
      ],
      "metadata": {
        "colab": {
          "base_uri": "https://localhost:8080/"
        },
        "id": "GE6hbqb26TFK",
        "outputId": "4af281cb-652d-4a62-be22-38eeb3997299"
      },
      "execution_count": 10,
      "outputs": [
        {
          "output_type": "stream",
          "name": "stdout",
          "text": [
            "step: 0, loss 44.289\n",
            "step: 10, loss 108.340\n",
            "step: 20, loss 22.248\n",
            "step: 30, loss 64.650\n",
            "step: 40, loss 35.801\n",
            "step: 50, loss 19.594\n",
            "step: 60, loss 71.300\n",
            "step: 70, loss 46.386\n",
            "step: 80, loss 13.532\n",
            "step: 90, loss 11.956\n",
            "step: 100, loss 20.660\n",
            "step: 110, loss 16.514\n",
            "step: 120, loss 12.262\n",
            "step: 130, loss 17.773\n",
            "step: 140, loss 16.622\n",
            "step: 150, loss 13.790\n",
            "step: 160, loss 34.847\n",
            "step: 170, loss 11.089\n",
            "step: 180, loss 8.773\n",
            "epoch: 0\n",
            "step: 0, loss 27.116\n",
            "step: 10, loss 13.718\n",
            "step: 20, loss 15.684\n",
            "step: 30, loss 19.286\n",
            "step: 40, loss 6.537\n",
            "step: 50, loss 14.753\n",
            "step: 60, loss 9.543\n",
            "step: 70, loss 18.255\n",
            "step: 80, loss 11.259\n",
            "step: 90, loss 18.152\n",
            "step: 100, loss 30.304\n",
            "step: 110, loss 12.162\n",
            "step: 120, loss 10.960\n",
            "step: 130, loss 8.209\n",
            "step: 140, loss 8.728\n",
            "step: 150, loss 10.349\n",
            "step: 160, loss 7.340\n",
            "step: 170, loss 8.140\n",
            "step: 180, loss 12.537\n",
            "epoch: 1\n",
            "step: 0, loss 7.127\n",
            "step: 10, loss 8.599\n",
            "step: 20, loss 7.871\n",
            "step: 30, loss 12.600\n",
            "step: 40, loss 15.213\n",
            "step: 50, loss 9.066\n",
            "step: 60, loss 23.394\n",
            "step: 70, loss 14.237\n",
            "step: 80, loss 9.419\n",
            "step: 90, loss 8.246\n",
            "step: 100, loss 9.335\n",
            "step: 110, loss 7.438\n",
            "step: 120, loss 10.380\n",
            "step: 130, loss 7.561\n",
            "step: 140, loss 15.022\n",
            "step: 150, loss 9.113\n",
            "step: 160, loss 9.042\n",
            "step: 170, loss 9.561\n",
            "step: 180, loss 13.745\n",
            "epoch: 2\n",
            "step: 0, loss 17.067\n",
            "step: 10, loss 10.954\n",
            "step: 20, loss 6.742\n",
            "step: 30, loss 15.688\n",
            "step: 40, loss 6.307\n",
            "step: 50, loss 7.743\n",
            "step: 60, loss 8.154\n",
            "step: 70, loss 8.109\n",
            "step: 80, loss 8.046\n",
            "step: 90, loss 7.548\n",
            "step: 100, loss 9.519\n",
            "step: 110, loss 7.543\n",
            "step: 120, loss 20.583\n",
            "step: 130, loss 5.826\n",
            "step: 140, loss 9.329\n",
            "step: 150, loss 12.251\n",
            "step: 160, loss 14.514\n",
            "step: 170, loss 26.918\n",
            "step: 180, loss 6.202\n",
            "epoch: 3\n",
            "step: 0, loss 8.630\n",
            "step: 10, loss 6.286\n",
            "step: 20, loss 12.131\n",
            "step: 30, loss 7.458\n",
            "step: 40, loss 11.993\n",
            "step: 50, loss 7.692\n",
            "step: 60, loss 7.906\n",
            "step: 70, loss 19.496\n",
            "step: 80, loss 5.370\n",
            "step: 90, loss 7.273\n",
            "step: 100, loss 5.931\n",
            "step: 110, loss 9.117\n",
            "step: 120, loss 8.841\n",
            "step: 130, loss 8.387\n",
            "step: 140, loss 7.298\n",
            "step: 150, loss 15.422\n",
            "step: 160, loss 9.939\n",
            "step: 170, loss 6.905\n",
            "step: 180, loss 7.810\n",
            "epoch: 4\n"
          ]
        }
      ]
    },
    {
      "cell_type": "markdown",
      "source": [
        "Now sample from the thermodynamic map using the `SteeredDiffusionSampler`. First load the model corresponding to the epoch that you want to sample from, and then pass the `DiffusionProcess`, `Loader`, and `Prior` used to train the model. Optionally, provide a scalar `gamma` that conditions over the fluctuations during the generative process when `gamma=1`. Otherwise, if `gamma=0` the conditional process is carried out for the fluctuations dimensions."
      ],
      "metadata": {
        "id": "esL_gYMWE48S"
      }
    },
    {
      "cell_type": "code",
      "source": [
        "backbone.load_model('/content/TM/models', epoch=4, device='cuda:0')\n",
        "\n",
        "sampler = SteeredDiffusionSampler(diffusion_process=diffusion, backbone=backbone,\n",
        "                                  loader=loader, sample_dir='/content/TM/samples',\n",
        "                                  pred_type='x0', prior=GEHP, gamma=1)\n",
        "\n",
        "sampler.sample_loop(num_samples=1000, batch_size=1000, save_prefix='ising',\n",
        "                    temperature=1, n_ch=2)\n"
      ],
      "metadata": {
        "id": "cZGrNzVo-Dj-"
      },
      "execution_count": 26,
      "outputs": []
    },
    {
      "cell_type": "code",
      "source": [
        "npz = np.load('/content/TM/samples/1K/ising_idx=0.npz')\n",
        "samples = npz['traj'].squeeze()"
      ],
      "metadata": {
        "id": "Xm5nkv8N_UIS"
      },
      "execution_count": 39,
      "outputs": []
    },
    {
      "cell_type": "code",
      "source": [
        "frame = samples[10]\n",
        "frame[frame > 0] = 1\n",
        "frame[frame < 0] = -1\n",
        "plt.imshow(frame, cmap='binary')\n",
        "plt.colorbar()"
      ],
      "metadata": {
        "colab": {
          "base_uri": "https://localhost:8080/",
          "height": 453
        },
        "id": "9rEWM4QhHm7B",
        "outputId": "aeb1ffaa-299b-4d1e-f720-c269aca93bf2"
      },
      "execution_count": 51,
      "outputs": [
        {
          "output_type": "execute_result",
          "data": {
            "text/plain": [
              "<matplotlib.colorbar.Colorbar at 0x7e05ede23d90>"
            ]
          },
          "metadata": {},
          "execution_count": 51
        },
        {
          "output_type": "display_data",
          "data": {
            "text/plain": [
              "<Figure size 640x480 with 2 Axes>"
            ],
            "image/png": "[encoded data removed]"
          },
          "metadata": {}
        }
      ]
    },
    {
      "cell_type": "code",
      "source": [],
      "metadata": {
        "id": "4U_HlvLUHoXF"
      },
      "execution_count": null,
      "outputs": []
    }
  ]
}